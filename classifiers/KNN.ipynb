{
 "cells": [
  {
   "cell_type": "markdown",
   "metadata": {},
   "source": [
    "KNN算法中将文本数据转化为NumPy的程序"
   ]
  },
  {
   "cell_type": "code",
   "execution_count": 25,
   "metadata": {},
   "outputs": [],
   "source": [
    "import numpy as np\n",
    "def file2matrix(filename):\n",
    "    fr = open(filename)\n",
    "    # 获取文件行数\n",
    "    lines = len(fr.readlines())\n",
    "    # 生成相应规格的空矩阵\n",
    "    # zeros(2,3)是2*3类型的0矩阵,本次试验对应的列数为3\n",
    "    returnMat = np.zeros((lines, 3))\n",
    "    # 生成类别标签\n",
    "    classLabelVec = []\n",
    "    index = 0\n",
    "    for line in fr.readlines():\n",
    "        # 移除头尾空格\n",
    "        line = line.strip()\n",
    "        # 切割字符串\n",
    "        listFromLine = line.split('\\t')\n",
    "        # 每列的属性数据\n",
    "        returnMat[index,:] = listFromLine[0:3]\n",
    "        # 获取标签\n",
    "        classLabelVec.append(int(listFromLine[-1]))\n",
    "        index +=1\n",
    "    return returnMat, classLabelVec"
   ]
  },
  {
   "cell_type": "markdown",
   "metadata": {},
   "source": [
    "数据归一化处理：消除特征之间量级不同导致的影响"
   ]
  },
  {
   "cell_type": "code",
   "execution_count": 39,
   "metadata": {},
   "outputs": [],
   "source": [
    "def nomalData(dataSet):\n",
    "    # 计算最大值最小值范围\n",
    "    #每列最小值，是个行向量\n",
    "    minValue = dataSet.min(0)\n",
    "    maxValue = dataSet.max(0)\n",
    "    # 计算最大差值，每列最大差值\n",
    "    range = maxValue - minValue\n",
    "    normalDataSet = np.zeros(np.shape(dataSet))\n",
    "    m = dataSet.shape[0]\n",
    "    # 生成最小值之差组成的矩阵\n",
    "    # tile(minValue, (m, 1)) 生成minValue行向量，的m倍行向量\n",
    "    normalDataSet = dataSet - np.tile(minValue, (m, 1))\n",
    "    # 将最小值之差除以范围组成矩阵\n",
    "    normalDataSet = normalDataSet / np.tile(range, (m, 1))\n",
    "    return normalDataSet, range, minValue"
   ]
  },
  {
   "cell_type": "markdown",
   "metadata": {},
   "source": [
    "KNN算法：\n",
    "       对于每一个数据集中的数据点：\n",
    "       计算目标数据点（待分类的数据点）与该数据点的距离\n",
    "       将距离排序：从小到大\n",
    "       选取K个最短距离\n",
    "       选取这K个类别中最多的分类类别\n",
    "       返回该类别来作为目标数据点的预测值。"
   ]
  },
  {
   "cell_type": "code",
   "execution_count": 31,
   "metadata": {},
   "outputs": [],
   "source": [
    "def classify0(intX, dateSet, labels, k):\n",
    "    dataSetSize = dataSet.shape[0]\n",
    "    # 距离度量，欧氏距离\n",
    "    diffMat = tile(inX, (dataSetSize, 1)) - dataSet\n",
    "    sqDiffMat = diffMat**2\n",
    "    # 行相加\n",
    "    sqDistance = sqDiffMat.sum(axis=1)\n",
    "    distances = sqDistance**0.5\n",
    "    # 距离排序\n",
    "    sortedDistance = distances.argsort()\n",
    "    # 选取前k个最短距离,并投票得出K个类别最多的类\n",
    "    classCount = {}\n",
    "    for i in range(k):\n",
    "        voteLabel = labels[sortedDistance[i]]\n",
    "        classCount[voteLabel] = classCount.get(voteLabel, 0) + 1\n",
    "    sortedClassCount = sorted(classCount.iteriterms(), key = operator.iteriterms(1), reverse=True)\n",
    "    return sortedClassCount[0][0]\n",
    "     "
   ]
  },
  {
   "cell_type": "code",
   "execution_count": 32,
   "metadata": {},
   "outputs": [],
   "source": [
    "def datingClassTest():\n",
    "    \"\"\"\n",
    "    Desc:\n",
    "        对约会网站的测试方法\n",
    "    parameters:\n",
    "        none\n",
    "    return:\n",
    "        错误数\n",
    "    \"\"\"\n",
    "    # 设置测试数据的的一个比例（训练数据集比例=1-hoRatio）\n",
    "    hoRatio = 0.1  # 测试范围,一部分测试一部分作为样本\n",
    "    # 从文件中加载数据\n",
    "    datingDataMat, datingLabels = file2matrix('/Users/aily/code/tensorflow/baseML/datasets/KNN/knnDataSet.txt')  # load data setfrom file\n",
    "    # 归一化数据\n",
    "    normMat, ranges, minVals = autoNorm(datingDataMat)\n",
    "    # m 表示数据的行数，即矩阵的第一维\n",
    "    m = normMat.shape[0]\n",
    "    # 设置测试的样本数量， numTestVecs:m表示训练样本的数量\n",
    "    numTestVecs = int(m * hoRatio)\n",
    "    print ('numTestVecs=', numTestVecs)\n",
    "    errorCount = 0.0\n",
    "    for i in range(numTestVecs):\n",
    "        # 对数据测试\n",
    "        classifierResult = classify0(normMat[i, :], normMat[numTestVecs:m, :], datingLabels[numTestVecs:m], 3)\n",
    "        print (\"the classifier came back with: %d, the real answer is: %d\" % (classifierResult, datingLabels[i]))\n",
    "        if (classifierResult != datingLabels[i]): errorCount += 1.0\n",
    "    print (\"the total error rate is: %f\" % (errorCount / float(numTestVecs)))\n",
    "    print (errorCount)\n",
    "    "
   ]
  },
  {
   "cell_type": "code",
   "execution_count": 42,
   "metadata": {},
   "outputs": [
    {
     "name": "stderr",
     "output_type": "stream",
     "text": [
      "/Users/aily/code/tensorflow/py3/lib/python3.7/site-packages/ipykernel_launcher.py:14: RuntimeWarning: invalid value encountered in true_divide\n",
      "  \n",
      "/Users/aily/code/tensorflow/py3/lib/python3.7/site-packages/ipykernel_launcher.py:9: RuntimeWarning: divide by zero encountered in true_divide\n",
      "  if __name__ == '__main__':\n"
     ]
    },
    {
     "ename": "NameError",
     "evalue": "name 'dataSet' is not defined",
     "output_type": "error",
     "traceback": [
      "\u001b[0;31m---------------------------------------------------------------------------\u001b[0m",
      "\u001b[0;31mNameError\u001b[0m                                 Traceback (most recent call last)",
      "\u001b[0;32m<ipython-input-42-ad3de9ae85be>\u001b[0m in \u001b[0;36m<module>\u001b[0;34m\u001b[0m\n\u001b[1;32m      9\u001b[0m     \u001b[0mclassifierResult\u001b[0m \u001b[0;34m=\u001b[0m \u001b[0mclassify0\u001b[0m\u001b[0;34m(\u001b[0m\u001b[0;34m(\u001b[0m\u001b[0minArr\u001b[0m\u001b[0;34m-\u001b[0m\u001b[0mminVals\u001b[0m\u001b[0;34m)\u001b[0m\u001b[0;34m/\u001b[0m\u001b[0mranges\u001b[0m\u001b[0;34m,\u001b[0m\u001b[0mnormMat\u001b[0m\u001b[0;34m,\u001b[0m\u001b[0mdatingLabels\u001b[0m\u001b[0;34m,\u001b[0m \u001b[0;36m3\u001b[0m\u001b[0;34m)\u001b[0m\u001b[0;34m\u001b[0m\u001b[0;34m\u001b[0m\u001b[0m\n\u001b[1;32m     10\u001b[0m     \u001b[0mprint\u001b[0m \u001b[0;34m(\u001b[0m\u001b[0;34m\"You will probably like this person: \"\u001b[0m\u001b[0;34m,\u001b[0m \u001b[0mresultList\u001b[0m\u001b[0;34m[\u001b[0m\u001b[0mclassifierResult\u001b[0m \u001b[0;34m-\u001b[0m \u001b[0;36m1\u001b[0m\u001b[0;34m]\u001b[0m\u001b[0;34m)\u001b[0m\u001b[0;34m\u001b[0m\u001b[0;34m\u001b[0m\u001b[0m\n\u001b[0;32m---> 11\u001b[0;31m \u001b[0mclassifyPerson\u001b[0m\u001b[0;34m(\u001b[0m\u001b[0;34m)\u001b[0m\u001b[0;34m\u001b[0m\u001b[0;34m\u001b[0m\u001b[0m\n\u001b[0m",
      "\u001b[0;32m<ipython-input-42-ad3de9ae85be>\u001b[0m in \u001b[0;36mclassifyPerson\u001b[0;34m()\u001b[0m\n\u001b[1;32m      7\u001b[0m     \u001b[0mnormMat\u001b[0m\u001b[0;34m,\u001b[0m \u001b[0mranges\u001b[0m\u001b[0;34m,\u001b[0m \u001b[0mminVals\u001b[0m \u001b[0;34m=\u001b[0m \u001b[0mnomalData\u001b[0m\u001b[0;34m(\u001b[0m\u001b[0mdatingDataMat\u001b[0m\u001b[0;34m)\u001b[0m\u001b[0;34m\u001b[0m\u001b[0;34m\u001b[0m\u001b[0m\n\u001b[1;32m      8\u001b[0m     \u001b[0minArr\u001b[0m \u001b[0;34m=\u001b[0m \u001b[0mnp\u001b[0m\u001b[0;34m.\u001b[0m\u001b[0marray\u001b[0m\u001b[0;34m(\u001b[0m\u001b[0;34m[\u001b[0m\u001b[0mffMiles\u001b[0m\u001b[0;34m,\u001b[0m \u001b[0mpercentTats\u001b[0m\u001b[0;34m,\u001b[0m \u001b[0miceCream\u001b[0m\u001b[0;34m]\u001b[0m\u001b[0;34m)\u001b[0m\u001b[0;34m\u001b[0m\u001b[0;34m\u001b[0m\u001b[0m\n\u001b[0;32m----> 9\u001b[0;31m     \u001b[0mclassifierResult\u001b[0m \u001b[0;34m=\u001b[0m \u001b[0mclassify0\u001b[0m\u001b[0;34m(\u001b[0m\u001b[0;34m(\u001b[0m\u001b[0minArr\u001b[0m\u001b[0;34m-\u001b[0m\u001b[0mminVals\u001b[0m\u001b[0;34m)\u001b[0m\u001b[0;34m/\u001b[0m\u001b[0mranges\u001b[0m\u001b[0;34m,\u001b[0m\u001b[0mnormMat\u001b[0m\u001b[0;34m,\u001b[0m\u001b[0mdatingLabels\u001b[0m\u001b[0;34m,\u001b[0m \u001b[0;36m3\u001b[0m\u001b[0;34m)\u001b[0m\u001b[0;34m\u001b[0m\u001b[0;34m\u001b[0m\u001b[0m\n\u001b[0m\u001b[1;32m     10\u001b[0m     \u001b[0mprint\u001b[0m \u001b[0;34m(\u001b[0m\u001b[0;34m\"You will probably like this person: \"\u001b[0m\u001b[0;34m,\u001b[0m \u001b[0mresultList\u001b[0m\u001b[0;34m[\u001b[0m\u001b[0mclassifierResult\u001b[0m \u001b[0;34m-\u001b[0m \u001b[0;36m1\u001b[0m\u001b[0;34m]\u001b[0m\u001b[0;34m)\u001b[0m\u001b[0;34m\u001b[0m\u001b[0;34m\u001b[0m\u001b[0m\n\u001b[1;32m     11\u001b[0m \u001b[0mclassifyPerson\u001b[0m\u001b[0;34m(\u001b[0m\u001b[0;34m)\u001b[0m\u001b[0;34m\u001b[0m\u001b[0;34m\u001b[0m\u001b[0m\n",
      "\u001b[0;32m<ipython-input-31-2949d34b19e2>\u001b[0m in \u001b[0;36mclassify0\u001b[0;34m(intX, dateSet, labels, k)\u001b[0m\n\u001b[1;32m      1\u001b[0m \u001b[0;32mdef\u001b[0m \u001b[0mclassify0\u001b[0m\u001b[0;34m(\u001b[0m\u001b[0mintX\u001b[0m\u001b[0;34m,\u001b[0m \u001b[0mdateSet\u001b[0m\u001b[0;34m,\u001b[0m \u001b[0mlabels\u001b[0m\u001b[0;34m,\u001b[0m \u001b[0mk\u001b[0m\u001b[0;34m)\u001b[0m\u001b[0;34m:\u001b[0m\u001b[0;34m\u001b[0m\u001b[0;34m\u001b[0m\u001b[0m\n\u001b[0;32m----> 2\u001b[0;31m     \u001b[0mdataSetSize\u001b[0m \u001b[0;34m=\u001b[0m \u001b[0mdataSet\u001b[0m\u001b[0;34m.\u001b[0m\u001b[0mshape\u001b[0m\u001b[0;34m[\u001b[0m\u001b[0;36m0\u001b[0m\u001b[0;34m]\u001b[0m\u001b[0;34m\u001b[0m\u001b[0;34m\u001b[0m\u001b[0m\n\u001b[0m\u001b[1;32m      3\u001b[0m     \u001b[0;31m# 距离度量，欧氏距离\u001b[0m\u001b[0;34m\u001b[0m\u001b[0;34m\u001b[0m\u001b[0;34m\u001b[0m\u001b[0m\n\u001b[1;32m      4\u001b[0m     \u001b[0mdiffMat\u001b[0m \u001b[0;34m=\u001b[0m \u001b[0mtile\u001b[0m\u001b[0;34m(\u001b[0m\u001b[0minX\u001b[0m\u001b[0;34m,\u001b[0m \u001b[0;34m(\u001b[0m\u001b[0mdataSetSize\u001b[0m\u001b[0;34m,\u001b[0m \u001b[0;36m1\u001b[0m\u001b[0;34m)\u001b[0m\u001b[0;34m)\u001b[0m \u001b[0;34m-\u001b[0m \u001b[0mdataSet\u001b[0m\u001b[0;34m\u001b[0m\u001b[0;34m\u001b[0m\u001b[0m\n\u001b[1;32m      5\u001b[0m     \u001b[0msqDiffMat\u001b[0m \u001b[0;34m=\u001b[0m \u001b[0mdiffMat\u001b[0m\u001b[0;34m**\u001b[0m\u001b[0;36m2\u001b[0m\u001b[0;34m\u001b[0m\u001b[0;34m\u001b[0m\u001b[0m\n",
      "\u001b[0;31mNameError\u001b[0m: name 'dataSet' is not defined"
     ]
    }
   ],
   "source": [
    "def classifyPerson():\n",
    "    resultList = ['not at all', 'in small doses', 'in large doses']\n",
    "    percentTats = 2.4\n",
    "    ffMiles = 1.5\n",
    "    iceCream = 6.4\n",
    "    datingDataMat, datingLabels = file2matrix('/Users/aily/code/tensorflow/baseML/datasets/KNN/knnDataSet.txt')\n",
    "    normMat, ranges, minVals = nomalData(datingDataMat)\n",
    "    inArr = np.array([ffMiles, percentTats, iceCream])\n",
    "    classifierResult = classify0((inArr-minVals)/ranges,normMat,datingLabels, 3)\n",
    "    print (\"You will probably like this person: \", resultList[classifierResult - 1])\n",
    "classifyPerson()"
   ]
  },
  {
   "cell_type": "code",
   "execution_count": 12,
   "metadata": {},
   "outputs": [
    {
     "ename": "NameError",
     "evalue": "name 'raw_input' is not defined",
     "output_type": "error",
     "traceback": [
      "\u001b[0;31m---------------------------------------------------------------------------\u001b[0m",
      "\u001b[0;31mNameError\u001b[0m                                 Traceback (most recent call last)",
      "\u001b[0;32m<ipython-input-12-45bb49d0b81d>\u001b[0m in \u001b[0;36m<module>\u001b[0;34m\u001b[0m\n\u001b[0;32m----> 1\u001b[0;31m \u001b[0mclassifyPerson\u001b[0m\u001b[0;34m(\u001b[0m\u001b[0;34m)\u001b[0m\u001b[0;34m\u001b[0m\u001b[0;34m\u001b[0m\u001b[0m\n\u001b[0m",
      "\u001b[0;32m<ipython-input-10-8f7ec0918e90>\u001b[0m in \u001b[0;36mclassifyPerson\u001b[0;34m()\u001b[0m\n\u001b[1;32m      1\u001b[0m \u001b[0;32mdef\u001b[0m \u001b[0mclassifyPerson\u001b[0m\u001b[0;34m(\u001b[0m\u001b[0;34m)\u001b[0m\u001b[0;34m:\u001b[0m\u001b[0;34m\u001b[0m\u001b[0;34m\u001b[0m\u001b[0m\n\u001b[1;32m      2\u001b[0m     \u001b[0mresultList\u001b[0m \u001b[0;34m=\u001b[0m \u001b[0;34m[\u001b[0m\u001b[0;34m'not at all'\u001b[0m\u001b[0;34m,\u001b[0m \u001b[0;34m'in small doses'\u001b[0m\u001b[0;34m,\u001b[0m \u001b[0;34m'in large doses'\u001b[0m\u001b[0;34m]\u001b[0m\u001b[0;34m\u001b[0m\u001b[0;34m\u001b[0m\u001b[0m\n\u001b[0;32m----> 3\u001b[0;31m     \u001b[0mpercentTats\u001b[0m \u001b[0;34m=\u001b[0m \u001b[0mfloat\u001b[0m\u001b[0;34m(\u001b[0m\u001b[0mraw_input\u001b[0m\u001b[0;34m(\u001b[0m\u001b[0;34m\"percentage of time spent playing video games ?\"\u001b[0m\u001b[0;34m)\u001b[0m\u001b[0;34m)\u001b[0m\u001b[0;34m\u001b[0m\u001b[0;34m\u001b[0m\u001b[0m\n\u001b[0m\u001b[1;32m      4\u001b[0m     \u001b[0mffMiles\u001b[0m \u001b[0;34m=\u001b[0m \u001b[0mfloat\u001b[0m\u001b[0;34m(\u001b[0m\u001b[0mraw_input\u001b[0m\u001b[0;34m(\u001b[0m\u001b[0;34m\"frequent filer miles earned per year?\"\u001b[0m\u001b[0;34m)\u001b[0m\u001b[0;34m)\u001b[0m\u001b[0;34m\u001b[0m\u001b[0;34m\u001b[0m\u001b[0m\n\u001b[1;32m      5\u001b[0m     \u001b[0miceCream\u001b[0m \u001b[0;34m=\u001b[0m \u001b[0mfloat\u001b[0m\u001b[0;34m(\u001b[0m\u001b[0mraw_input\u001b[0m\u001b[0;34m(\u001b[0m\u001b[0;34m\"liters of ice cream consumed per year?\"\u001b[0m\u001b[0;34m)\u001b[0m\u001b[0;34m)\u001b[0m\u001b[0;34m\u001b[0m\u001b[0;34m\u001b[0m\u001b[0m\n",
      "\u001b[0;31mNameError\u001b[0m: name 'raw_input' is not defined"
     ]
    }
   ],
   "source": [
    "classifyPerson()"
   ]
  },
  {
   "cell_type": "code",
   "execution_count": null,
   "metadata": {},
   "outputs": [],
   "source": []
  }
 ],
 "metadata": {
  "kernelspec": {
   "display_name": "py3",
   "language": "python",
   "name": "py3"
  },
  "language_info": {
   "codemirror_mode": {
    "name": "ipython",
    "version": 3
   },
   "file_extension": ".py",
   "mimetype": "text/x-python",
   "name": "python",
   "nbconvert_exporter": "python",
   "pygments_lexer": "ipython3",
   "version": "3.7.2"
  }
 },
 "nbformat": 4,
 "nbformat_minor": 2
}
